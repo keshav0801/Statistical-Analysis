{
  "cells": [
    {
      "cell_type": "code",
      "execution_count": null,
      "metadata": {
        "id": "4lMTS9orpleI"
      },
      "outputs": [],
      "source": [
        "import numpy as np\n",
        "import matplotlib.pyplot as plt\n",
        "import math"
      ]
    },
    {
      "cell_type": "code",
      "execution_count": null,
      "metadata": {
        "id": "6bi1xTKppxwH"
      },
      "outputs": [],
      "source": [
        "np.random.seed(1000)\n",
        "rand_uni = np.random.rand(5000)"
      ]
    },
    {
      "cell_type": "markdown",
      "metadata": {
        "id": "3ZJvA1rl7-28"
      },
      "source": [
        "## Random samples from Uniform distribution"
      ]
    },
    {
      "cell_type": "code",
      "execution_count": null,
      "metadata": {
        "colab": {
          "base_uri": "https://localhost:8080/",
          "height": 265
        },
        "id": "H_beglrrqNPv",
        "outputId": "99e5029a-6851-4c05-f9dd-273e147cc616"
      },
      "outputs": [
        {
          "data": {
            "image/png": "[encoded data removed]",
            "text/plain": [
              "<Figure size 432x288 with 1 Axes>"
            ]
          },
          "metadata": {
            "needs_background": "light"
          },
          "output_type": "display_data"
        }
      ],
      "source": [
        "plt.hist(rand_uni);"
      ]
    },
    {
      "cell_type": "markdown",
      "metadata": {
        "id": "38ntVyVn8goy"
      },
      "source": [
        "## Converting Uniform to Exponential distribution"
      ]
    },
    {
      "cell_type": "markdown",
      "metadata": {
        "id": "ClG1D1Iy8ksd"
      },
      "source": [
        "The PDF of Exponential distribution is given by:\n",
        "\n",
        "$$ f(x;\\lambda) = \\lambda e^{-\\lambda x}, x\\ge 0 $$\n",
        "\n",
        "using the CDF Inverse transformation method,\n",
        "\n",
        "$$ x = -ln(y)$$\n",
        "the resulting Exponential distribution is with $\\lambda = 1$"
      ]
    },
    {
      "cell_type": "code",
      "execution_count": null,
      "metadata": {
        "id": "uQUZrTfMq0Ze"
      },
      "outputs": [],
      "source": [
        "rand_exp = -np.log(rand_uni)"
      ]
    },
    {
      "cell_type": "code",
      "execution_count": null,
      "metadata": {
        "colab": {
          "base_uri": "https://localhost:8080/",
          "height": 265
        },
        "id": "yek-AR40rXyG",
        "outputId": "70efb791-3f35-48ab-9085-fdc7e9a209cf"
      },
      "outputs": [
        {
          "data": {
            "image/png": "[encoded data removed]",
            "text/plain": [
              "<Figure size 432x288 with 1 Axes>"
            ]
          },
          "metadata": {
            "needs_background": "light"
          },
          "output_type": "display_data"
        }
      ],
      "source": [
        "plt.hist(rand_exp,bins=50);"
      ]
    },
    {
      "cell_type": "markdown",
      "metadata": {},
      "source": [
        "\n",
        "### Generating Samples for Half-Normal Distribution\n",
        "\n",
        "The code uses **acceptance-rejection sampling** to generate random samples from the half-normal distribution.\n",
        "\n",
        "1. **Target and Proposal Distributions**:\n",
        "   - **Target Distribution ($f_{X}(x)$)**: The PDF of the half-normal distribution is:\n",
        "     $$\n",
        "     f_{X}(x) = \\sqrt{\\frac{2}{\\pi}} \\cdot e^{-0.5x^2}, \\quad x \\geq 0\n",
        "     $$\n",
        "   - **Proposal Distribution ($g_{Y}(x)$)**: The algorithm uses an **exponential distribution**:\n",
        "     $$\n",
        "     g_{Y}(x) = e^{-x}, \\quad x \\geq 0\n",
        "     $$\n",
        "\n",
        "2. **Rejection Sampling Technique**:\n",
        "   - To sample from the half-normal distribution, the code iteratively:\n",
        "     - Generates $Y \\sim Exp(1)$ from a uniform random variable $U$ using:\n",
        "        $$\n",
        "       Y = -\\ln(U), \\quad U \\sim Uni[0,1]\n",
        "       $$\n",
        "     - Accepts \\(Y\\) as a sample for the half-normal distribution if:\n",
        "       $$\n",
        "       Z \\leq \\frac{f_{X}(x)}{e^{-x}}, \\quad Z \\sim Uni[0,1]\n",
        "       $$\n",
        "   - Substituting the definitions of \\(f_{X}(x)\\) and \\(g_{Y}(x)\\), the acceptance condition becomes:\n",
        "     $$\n",
        "     Z \\leq \\sqrt{\\frac{2}{\\pi}} \\cdot e^{-0.5 - 0.5x^2 + x}, \\quad Z, U \\sim_{iid} Uni[0,1]\n",
        "     $$\n"
      ]
    },
    {
      "cell_type": "code",
      "execution_count": null,
      "metadata": {
        "id": "ICvj1kd5rbI-"
      },
      "outputs": [],
      "source": [
        "rand_half=[]\n",
        "for x in rand_exp:\n",
        "    np.random.seed()\n",
        "    y=np.random.uniform(0,math.exp(-x))\n",
        "    if math.exp(-0.5-0.5*x*x) > y:\n",
        "        rand_half.append(x)\n"
      ]
    },
    {
      "cell_type": "code",
      "execution_count": null,
      "metadata": {
        "colab": {
          "base_uri": "https://localhost:8080/",
          "height": 265
        },
        "id": "A8z767Epvhed",
        "outputId": "597bad8b-03ab-4d28-cf03-e43ca65daf1d"
      },
      "outputs": [
        {
          "data": {
            "image/png": "[encoded data removed]",
            "text/plain": [
              "<Figure size 432x288 with 1 Axes>"
            ]
          },
          "metadata": {
            "needs_background": "light"
          },
          "output_type": "display_data"
        }
      ],
      "source": [
        "plt.hist(rand_half,bins=50);\n",
        "plt.show()"
      ]
    },
    {
      "cell_type": "code",
      "execution_count": null,
      "metadata": {
        "colab": {
          "base_uri": "https://localhost:8080/"
        },
        "id": "m8vAQ216vpmZ",
        "outputId": "30ee6b06-da06-4ed3-9350-7519aa9d424b"
      },
      "outputs": [
        {
          "name": "stdout",
          "output_type": "stream",
          "text": [
            "0.8707323061773764\n",
            "0.20671915533942642\n",
            "0.9186109079379216\n",
            "0.48841118879482914\n",
            "0.6117438629026457\n",
            "0.7659078564803156\n",
            "0.5184179878729432\n",
            "0.29680050157622195\n",
            "0.18772122866125163\n",
            "0.08074126876487486\n"
          ]
        }
      ],
      "source": [
        "import seaborn as sns\n",
        "sns.kdeplot(rand_half)"
      ]
    },
    {
      "cell_type": "code",
      "execution_count": null,
      "metadata": {
        "id": "0iJT-9MHwdnd"
      },
      "outputs": [],
      "source": [
        "rand_half1=[]\n",
        "for x in rand_exp:\n",
        "    y = np.random.uniform()\n",
        "    if math.exp(-0.5-0.5*x*x+x) > y:\n",
        "        rand_half1.append(x)\n"
      ]
    },
    {
      "cell_type": "code",
      "execution_count": null,
      "metadata": {
        "colab": {
          "base_uri": "https://localhost:8080/",
          "height": 513
        },
        "id": "8FxlvRvfyju2",
        "outputId": "a6d05af6-5644-43c7-e973-ffc1cb1d06dc"
      },
      "outputs": [
        {
          "data": {
            "image/png": "[encoded data removed]",
            "text/plain": [
              "<Figure size 432x288 with 1 Axes>"
            ]
          },
          "metadata": {
            "needs_background": "light"
          },
          "output_type": "display_data"
        },
        {
          "data": {
            "image/png": "[encoded data removed]",
            "text/plain": [
              "<Figure size 432x288 with 1 Axes>"
            ]
          },
          "metadata": {
            "needs_background": "light"
          },
          "output_type": "display_data"
        }
      ],
      "source": [
        "plt.hist(rand_half1,bins=50);\n",
        "plt.show()\n",
        "plt.hist(rand_half,bins=50);\n",
        "plt.show()"
      ]
    },
    {
      "cell_type": "code",
      "execution_count": null,
      "metadata": {
        "colab": {
          "base_uri": "https://localhost:8080/",
          "height": 282
        },
        "id": "nnkIPeDAynXO",
        "outputId": "4442158e-6af5-464f-a191-a363ba06929d"
      },
      "outputs": [
        {
          "data": {
            "text/plain": [
              "<matplotlib.axes._subplots.AxesSubplot at 0x7f5c86f41a60>"
            ]
          },
          "execution_count": 22,
          "metadata": {},
          "output_type": "execute_result"
        },
        {
          "data": {
            "image/png": "[encoded data removed]",
            "text/plain": [
              "<Figure size 432x288 with 1 Axes>"
            ]
          },
          "metadata": {
            "needs_background": "light"
          },
          "output_type": "display_data"
        }
      ],
      "source": [
        "import seaborn as sns\n",
        "sns.kdeplot(rand_exp*math.sqrt(2/math.pi)*math.exp(-0.5))\n",
        "sns.kdeplot(rand_half)"
      ]
    },
    {
      "cell_type": "code",
      "execution_count": null,
      "metadata": {
        "colab": {
          "base_uri": "https://localhost:8080/",
          "height": 282
        },
        "id": "3RJ8QMGrF0Xi",
        "outputId": "1f1b73c8-24f2-4216-fa08-04b91383502a"
      },
      "outputs": [
        {
          "data": {
            "text/plain": [
              "<matplotlib.axes._subplots.AxesSubplot at 0x7f5c84a90ee0>"
            ]
          },
          "execution_count": 24,
          "metadata": {},
          "output_type": "execute_result"
        },
        {
          "data": {
            "image/png": "[encoded data removed]",
            "text/plain": [
              "<Figure size 432x288 with 1 Axes>"
            ]
          },
          "metadata": {
            "needs_background": "light"
          },
          "output_type": "display_data"
        }
      ],
      "source": [
        "import seaborn as sns\n",
        "sns.kdeplot(rand_exp)\n",
        "sns.kdeplot(rand_half)"
      ]
    },
    {
      "cell_type": "markdown",
      "metadata": {
        "id": "glaEegjbFg-Q"
      },
      "source": [
        "### Generating Samples for Normal Distribution\n",
        "\n",
        "The code utilizes the symmetry of the **normal distribution** to transform samples from the **half-normal distribution** into samples from the **normal distribution**.\n",
        "\n",
        "1. **Half-Normal Distribution**:\n",
        "   - The half-normal distribution is the absolute value of the normal distribution:\n",
        "     $$\n",
        "     X \\sim \\text{HalfNormal} \\implies X = |Z|, \\quad Z \\sim \\mathcal{N}(0, \\sigma^2)\n",
        "     $$\n",
        "\n",
        "2. **Introducing Symmetry**:\n",
        "   - To recover the full normal distribution, we randomly assign a sign + or - to each sample from the half-normal distribution. This is achieved by multiplying each sample by a factor that is either +1 or -1 with equal probability ($50\\%$).\n",
        "\n",
        "3. **Code Implementation**:\n",
        "   - The random signs are generated using the following code:\n",
        "     ```\n",
        "     np.random.randint(0, 2, size=len(rand_half)) * 2 - 1\n",
        "     ```\n",
        "     This produces an array of random signs ($+1$ or $-1$).\n",
        "\n",
        "   - Each sample from the half-normal distribution (`rand_half`) is then multiplied by the corresponding random sign to produce samples from the normal distribution:\n",
        "     $$\n",
        "     Z = S \\cdot X, \\quad S \\in \\{-1, +1\\}, \\quad X \\sim \\text{HalfNormal}\n",
        "     $$\n",
        "     where $Z$ represents the final normal distribution sample."
      ]
    },
    {
      "cell_type": "code",
      "execution_count": null,
      "metadata": {
        "id": "suOEQYlQy5wd"
      },
      "outputs": [],
      "source": [
        "normal_dist = (np.random.randint(0,2,size=len(rand_half))*2-1)*np.array(rand_half)"
      ]
    },
    {
      "cell_type": "code",
      "execution_count": null,
      "metadata": {
        "colab": {
          "base_uri": "https://localhost:8080/",
          "height": 282
        },
        "id": "b_Kp-6fhJR-I",
        "outputId": "7224f8d8-46fe-4f17-e2e2-da9cd54be457"
      },
      "outputs": [
        {
          "data": {
            "text/plain": [
              "<matplotlib.axes._subplots.AxesSubplot at 0x7f5c84a90bb0>"
            ]
          },
          "execution_count": 26,
          "metadata": {},
          "output_type": "execute_result"
        },
        {
          "data": {
            "image/png": "[encoded data removed]",
            "text/plain": [
              "<Figure size 432x288 with 1 Axes>"
            ]
          },
          "metadata": {
            "needs_background": "light"
          },
          "output_type": "display_data"
        }
      ],
      "source": [
        "sns.kdeplot(normal_dist)"
      ]
    },
    {
      "cell_type": "code",
      "execution_count": null,
      "metadata": {
        "id": "U6rMi8jsJwEa"
      },
      "outputs": [],
      "source": [
        "rand_half2 = []\n",
        "X = np.random.rand(5000)\n",
        "for i in X:\n",
        "    y = np.random.rand()\n",
        "    if (-math.log(y))>=(0.5*(math.log(i)+1)**2):\n",
        "        rand_half2.append(-math.log(i))"
      ]
    },
    {
      "cell_type": "code",
      "execution_count": null,
      "metadata": {
        "colab": {
          "base_uri": "https://localhost:8080/",
          "height": 265
        },
        "id": "KKyJ98v7KOA-",
        "outputId": "eeb04f05-5f0a-4cd9-f563-d3c4a6f7e93d"
      },
      "outputs": [
        {
          "data": {
            "image/png": "[encoded data removed]",
            "text/plain": [
              "<Figure size 432x288 with 1 Axes>"
            ]
          },
          "metadata": {
            "needs_background": "light"
          },
          "output_type": "display_data"
        }
      ],
      "source": [
        "plt.hist(rand_half2,bins=50);"
      ]
    },
    {
      "cell_type": "code",
      "execution_count": null,
      "metadata": {
        "id": "WyRcKoO9K8Tj"
      },
      "outputs": [],
      "source": [
        "import pandas as pd\n",
        "from statsmodels.nonparametric.kernel_regression import KernelReg\n"
      ]
    },
    {
      "cell_type": "code",
      "execution_count": null,
      "metadata": {
        "colab": {
          "base_uri": "https://localhost:8080/",
          "height": 487
        },
        "id": "T1uklRSOuI1n",
        "outputId": "9b11ee37-49eb-4c20-ff69-191322de4284"
      },
      "outputs": [
        {
          "data": {
            "text/html": [
              "\n",
              "  <div id=\"df-b1739e47-f30c-4fe4-b400-fbb782fa3959\">\n",
              "    <div class=\"colab-df-container\">\n",
              "      <div>\n",
              "<style scoped>\n",
              "    .dataframe tbody tr th:only-of-type {\n",
              "        vertical-align: middle;\n",
              "    }\n",
              "\n",
              "    .dataframe tbody tr th {\n",
              "        vertical-align: top;\n",
              "    }\n",
              "\n",
              "    .dataframe thead th {\n",
              "        text-align: right;\n",
              "    }\n",
              "</style>\n",
              "<table border=\"1\" class=\"dataframe\">\n",
              "  <thead>\n",
              "    <tr style=\"text-align: right;\">\n",
              "      <th></th>\n",
              "      <th>@_cbmi</th>\n",
              "      <th>wi_s</th>\n",
              "      <th>q304</th>\n",
              "      <th>q201I</th>\n",
              "      <th>q306c</th>\n",
              "      <th>q306d</th>\n",
              "      <th>q102</th>\n",
              "      <th>q201A</th>\n",
              "      <th>q116</th>\n",
              "      <th>q306l</th>\n",
              "      <th>q306n</th>\n",
              "      <th>state_weight_survey</th>\n",
              "    </tr>\n",
              "  </thead>\n",
              "  <tbody>\n",
              "    <tr>\n",
              "      <th>0</th>\n",
              "      <td>17.718954</td>\n",
              "      <td>3.0</td>\n",
              "      <td>0.0</td>\n",
              "      <td>1.0</td>\n",
              "      <td>3.0</td>\n",
              "      <td>3.0</td>\n",
              "      <td>0.0</td>\n",
              "      <td>0.0</td>\n",
              "      <td>1.0</td>\n",
              "      <td>0.4</td>\n",
              "      <td>7.0</td>\n",
              "      <td>0.001210</td>\n",
              "    </tr>\n",
              "    <tr>\n",
              "      <th>1</th>\n",
              "      <td>20.040155</td>\n",
              "      <td>4.0</td>\n",
              "      <td>0.0</td>\n",
              "      <td>0.0</td>\n",
              "      <td>7.0</td>\n",
              "      <td>1.0</td>\n",
              "      <td>1.0</td>\n",
              "      <td>0.0</td>\n",
              "      <td>3.0</td>\n",
              "      <td>7.0</td>\n",
              "      <td>3.0</td>\n",
              "      <td>0.000851</td>\n",
              "    </tr>\n",
              "    <tr>\n",
              "      <th>2</th>\n",
              "      <td>14.299371</td>\n",
              "      <td>1.0</td>\n",
              "      <td>1.0</td>\n",
              "      <td>0.0</td>\n",
              "      <td>2.0</td>\n",
              "      <td>0.4</td>\n",
              "      <td>1.0</td>\n",
              "      <td>1.0</td>\n",
              "      <td>3.0</td>\n",
              "      <td>7.0</td>\n",
              "      <td>3.0</td>\n",
              "      <td>0.000901</td>\n",
              "    </tr>\n",
              "    <tr>\n",
              "      <th>3</th>\n",
              "      <td>19.881560</td>\n",
              "      <td>4.0</td>\n",
              "      <td>0.0</td>\n",
              "      <td>1.0</td>\n",
              "      <td>3.0</td>\n",
              "      <td>0.4</td>\n",
              "      <td>0.0</td>\n",
              "      <td>0.0</td>\n",
              "      <td>3.0</td>\n",
              "      <td>7.0</td>\n",
              "      <td>0.4</td>\n",
              "      <td>0.000930</td>\n",
              "    </tr>\n",
              "    <tr>\n",
              "      <th>4</th>\n",
              "      <td>16.924901</td>\n",
              "      <td>2.0</td>\n",
              "      <td>1.0</td>\n",
              "      <td>0.0</td>\n",
              "      <td>3.0</td>\n",
              "      <td>2.0</td>\n",
              "      <td>0.0</td>\n",
              "      <td>0.0</td>\n",
              "      <td>3.0</td>\n",
              "      <td>0.4</td>\n",
              "      <td>0.4</td>\n",
              "      <td>0.000947</td>\n",
              "    </tr>\n",
              "    <tr>\n",
              "      <th>...</th>\n",
              "      <td>...</td>\n",
              "      <td>...</td>\n",
              "      <td>...</td>\n",
              "      <td>...</td>\n",
              "      <td>...</td>\n",
              "      <td>...</td>\n",
              "      <td>...</td>\n",
              "      <td>...</td>\n",
              "      <td>...</td>\n",
              "      <td>...</td>\n",
              "      <td>...</td>\n",
              "      <td>...</td>\n",
              "    </tr>\n",
              "    <tr>\n",
              "      <th>595</th>\n",
              "      <td>18.658964</td>\n",
              "      <td>5.0</td>\n",
              "      <td>1.0</td>\n",
              "      <td>0.0</td>\n",
              "      <td>4.0</td>\n",
              "      <td>1.0</td>\n",
              "      <td>0.0</td>\n",
              "      <td>0.0</td>\n",
              "      <td>0.0</td>\n",
              "      <td>0.4</td>\n",
              "      <td>0.4</td>\n",
              "      <td>0.001090</td>\n",
              "    </tr>\n",
              "    <tr>\n",
              "      <th>596</th>\n",
              "      <td>19.666224</td>\n",
              "      <td>3.0</td>\n",
              "      <td>0.0</td>\n",
              "      <td>0.0</td>\n",
              "      <td>3.0</td>\n",
              "      <td>3.0</td>\n",
              "      <td>0.0</td>\n",
              "      <td>1.0</td>\n",
              "      <td>1.0</td>\n",
              "      <td>7.0</td>\n",
              "      <td>5.0</td>\n",
              "      <td>0.001131</td>\n",
              "    </tr>\n",
              "    <tr>\n",
              "      <th>597</th>\n",
              "      <td>17.318158</td>\n",
              "      <td>3.0</td>\n",
              "      <td>1.0</td>\n",
              "      <td>0.0</td>\n",
              "      <td>5.0</td>\n",
              "      <td>0.4</td>\n",
              "      <td>1.0</td>\n",
              "      <td>0.0</td>\n",
              "      <td>3.0</td>\n",
              "      <td>7.0</td>\n",
              "      <td>4.0</td>\n",
              "      <td>0.001074</td>\n",
              "    </tr>\n",
              "    <tr>\n",
              "      <th>598</th>\n",
              "      <td>19.905756</td>\n",
              "      <td>3.0</td>\n",
              "      <td>0.0</td>\n",
              "      <td>0.0</td>\n",
              "      <td>0.4</td>\n",
              "      <td>0.4</td>\n",
              "      <td>1.0</td>\n",
              "      <td>0.0</td>\n",
              "      <td>3.0</td>\n",
              "      <td>0.4</td>\n",
              "      <td>0.4</td>\n",
              "      <td>0.001071</td>\n",
              "    </tr>\n",
              "    <tr>\n",
              "      <th>599</th>\n",
              "      <td>13.516043</td>\n",
              "      <td>4.0</td>\n",
              "      <td>1.0</td>\n",
              "      <td>0.0</td>\n",
              "      <td>1.0</td>\n",
              "      <td>2.0</td>\n",
              "      <td>1.0</td>\n",
              "      <td>0.0</td>\n",
              "      <td>1.0</td>\n",
              "      <td>7.0</td>\n",
              "      <td>1.0</td>\n",
              "      <td>0.001854</td>\n",
              "    </tr>\n",
              "  </tbody>\n",
              "</table>\n",
              "<p>600 rows × 12 columns</p>\n",
              "</div>\n",
              "      <button class=\"colab-df-convert\" onclick=\"convertToInteractive('df-b1739e47-f30c-4fe4-b400-fbb782fa3959')\"\n",
              "              title=\"Convert this dataframe to an interactive table.\"\n",
              "              style=\"display:none;\">\n",
              "        \n",
              "  <svg xmlns=\"http://www.w3.org/2000/svg\" height=\"24px\"viewBox=\"0 0 24 24\"\n",
              "       width=\"24px\">\n",
              "    <path d=\"M0 0h24v24H0V0z\" fill=\"none\"/>\n",
              "    <path d=\"M18.56 5.44l.94 2.06.94-2.06 2.06-.94-2.06-.94-.94-2.06-.94 2.06-2.06.94zm-11 1L8.5 8.5l.94-2.06 2.06-.94-2.06-.94L8.5 2.5l-.94 2.06-2.06.94zm10 10l.94 2.06.94-2.06 2.06-.94-2.06-.94-.94-2.06-.94 2.06-2.06.94z\"/><path d=\"M17.41 7.96l-1.37-1.37c-.4-.4-.92-.59-1.43-.59-.52 0-1.04.2-1.43.59L10.3 9.45l-7.72 7.72c-.78.78-.78 2.05 0 2.83L4 21.41c.39.39.9.59 1.41.59.51 0 1.02-.2 1.41-.59l7.78-7.78 2.81-2.81c.8-.78.8-2.07 0-2.86zM5.41 20L4 18.59l7.72-7.72 1.47 1.35L5.41 20z\"/>\n",
              "  </svg>\n",
              "      </button>\n",
              "      \n",
              "  <style>\n",
              "    .colab-df-container {\n",
              "      display:flex;\n",
              "      flex-wrap:wrap;\n",
              "      gap: 12px;\n",
              "    }\n",
              "\n",
              "    .colab-df-convert {\n",
              "      background-color: #E8F0FE;\n",
              "      border: none;\n",
              "      border-radius: 50%;\n",
              "      cursor: pointer;\n",
              "      display: none;\n",
              "      fill: #1967D2;\n",
              "      height: 32px;\n",
              "      padding: 0 0 0 0;\n",
              "      width: 32px;\n",
              "    }\n",
              "\n",
              "    .colab-df-convert:hover {\n",
              "      background-color: #E2EBFA;\n",
              "      box-shadow: 0px 1px 2px rgba(60, 64, 67, 0.3), 0px 1px 3px 1px rgba(60, 64, 67, 0.15);\n",
              "      fill: #174EA6;\n",
              "    }\n",
              "\n",
              "    [theme=dark] .colab-df-convert {\n",
              "      background-color: #3B4455;\n",
              "      fill: #D2E3FC;\n",
              "    }\n",
              "\n",
              "    [theme=dark] .colab-df-convert:hover {\n",
              "      background-color: #434B5C;\n",
              "      box-shadow: 0px 1px 3px 1px rgba(0, 0, 0, 0.15);\n",
              "      filter: drop-shadow(0px 1px 2px rgba(0, 0, 0, 0.3));\n",
              "      fill: #FFFFFF;\n",
              "    }\n",
              "  </style>\n",
              "\n",
              "      <script>\n",
              "        const buttonEl =\n",
              "          document.querySelector('#df-b1739e47-f30c-4fe4-b400-fbb782fa3959 button.colab-df-convert');\n",
              "        buttonEl.style.display =\n",
              "          google.colab.kernel.accessAllowed ? 'block' : 'none';\n",
              "\n",
              "        async function convertToInteractive(key) {\n",
              "          const element = document.querySelector('#df-b1739e47-f30c-4fe4-b400-fbb782fa3959');\n",
              "          const dataTable =\n",
              "            await google.colab.kernel.invokeFunction('convertToInteractive',\n",
              "                                                     [key], {});\n",
              "          if (!dataTable) return;\n",
              "\n",
              "          const docLinkHtml = 'Like what you see? Visit the ' +\n",
              "            '<a target=\"_blank\" href=https://colab.research.google.com/notebooks/data_table.ipynb>data table notebook</a>'\n",
              "            + ' to learn more about interactive tables.';\n",
              "          element.innerHTML = '';\n",
              "          dataTable['output_type'] = 'display_data';\n",
              "          await google.colab.output.renderOutput(dataTable, element);\n",
              "          const docLink = document.createElement('div');\n",
              "          docLink.innerHTML = docLinkHtml;\n",
              "          element.appendChild(docLink);\n",
              "        }\n",
              "      </script>\n",
              "    </div>\n",
              "  </div>\n",
              "  "
            ],
            "text/plain": [
              "        @_cbmi  wi_s  q304  q201I  q306c  q306d  q102  q201A  q116  q306l  \\\n",
              "0    17.718954   3.0   0.0    1.0    3.0    3.0   0.0    0.0   1.0    0.4   \n",
              "1    20.040155   4.0   0.0    0.0    7.0    1.0   1.0    0.0   3.0    7.0   \n",
              "2    14.299371   1.0   1.0    0.0    2.0    0.4   1.0    1.0   3.0    7.0   \n",
              "3    19.881560   4.0   0.0    1.0    3.0    0.4   0.0    0.0   3.0    7.0   \n",
              "4    16.924901   2.0   1.0    0.0    3.0    2.0   0.0    0.0   3.0    0.4   \n",
              "..         ...   ...   ...    ...    ...    ...   ...    ...   ...    ...   \n",
              "595  18.658964   5.0   1.0    0.0    4.0    1.0   0.0    0.0   0.0    0.4   \n",
              "596  19.666224   3.0   0.0    0.0    3.0    3.0   0.0    1.0   1.0    7.0   \n",
              "597  17.318158   3.0   1.0    0.0    5.0    0.4   1.0    0.0   3.0    7.0   \n",
              "598  19.905756   3.0   0.0    0.0    0.4    0.4   1.0    0.0   3.0    0.4   \n",
              "599  13.516043   4.0   1.0    0.0    1.0    2.0   1.0    0.0   1.0    7.0   \n",
              "\n",
              "     q306n  state_weight_survey  \n",
              "0      7.0             0.001210  \n",
              "1      3.0             0.000851  \n",
              "2      3.0             0.000901  \n",
              "3      0.4             0.000930  \n",
              "4      0.4             0.000947  \n",
              "..     ...                  ...  \n",
              "595    0.4             0.001090  \n",
              "596    5.0             0.001131  \n",
              "597    4.0             0.001074  \n",
              "598    0.4             0.001071  \n",
              "599    1.0             0.001854  \n",
              "\n",
              "[600 rows x 12 columns]"
            ]
          },
          "execution_count": 3,
          "metadata": {},
          "output_type": "execute_result"
        }
      ],
      "source": [
        "dependent_var = '@_cbmi'\n",
        "ind_var = ['wi_s','q304','q201I', 'q306c', 'q306d', 'q102', 'q201A', 'q116','q306l','q306n']\n",
        "reg_train = pd.read_csv('data.csv' )\n",
        "reg_train"
      ]
    },
    {
      "cell_type": "code",
      "execution_count": null,
      "metadata": {
        "colab": {
          "base_uri": "https://localhost:8080/"
        },
        "id": "vQiMnR4KuWCA",
        "outputId": "ffd107a1-d475-4761-dee5-9e78bf41af1c"
      },
      "outputs": [
        {
          "name": "stdout",
          "output_type": "stream",
          "text": [
            "[ 1.90031937  0.74106167  0.13248323  0.89086399  2.76937895  0.423655\n",
            "  0.53975571  0.62922874 30.9225373   8.42746269]\n",
            "[0.74496653 0.25847212 0.06882867 0.70855964 1.89029046 0.39059156\n",
            " 0.06753075 0.74766341 1.86961878 4.72221904]\n"
          ]
        }
      ],
      "source": [
        "\n",
        "local_lin_reg = KernelReg(reg_train[dependent_var],reg_train[ind_var],'ouuccuuucc')\n",
        "fitted_ll, margin_ll = local_lin_reg.fit()\n",
        "bw_ll = local_lin_reg.bw\n",
        "print(local_lin_reg.bw)\n",
        "local_const = KernelReg(reg_train[dependent_var],reg_train[ind_var],'ouuccuuucc',reg_type = 'lc')\n",
        "fitted_lc, margin_lc = local_const.fit()\n",
        "bw_lc = local_const.bw\n",
        "print(local_const.bw)"
      ]
    },
    {
      "cell_type": "code",
      "execution_count": null,
      "metadata": {
        "id": "a7J97GsHutru"
      },
      "outputs": [],
      "source": []
    }
  ],
  "metadata": {
    "colab": {
      "provenance": []
    },
    "kernelspec": {
      "display_name": "Python 3",
      "name": "python3"
    },
    "language_info": {
      "name": "python"
    }
  },
  "nbformat": 4,
  "nbformat_minor": 0
}
